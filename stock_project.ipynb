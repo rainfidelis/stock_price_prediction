{
 "cells": [
  {
   "cell_type": "markdown",
   "metadata": {},
   "source": [
    "## Stock Price Prediction\n",
    "\n",
    "The stock market is a trillion-dollar industry with lots of potential for investors. Traders have made unbelievable amounts of profit by getting in on the right stock at the right time. But identifying the right time is never a straightforward event.\n",
    "\n",
    "Imagine you want to make money trading stocks, and you only want to buy stocks you can trade for higher. As a day trader, you want to only buy a stock at the start of trade each day only if you're certain the price will increase before close of day. How can you be sure there'll be a price increase?\n",
    "\n",
    "That is the question this project seeks to answer. How can you know for certain that the price of a stock will increase tomorrow, so you can plan to buy it at the start of trade tomorrow?\n",
    "\n",
    "A classification algorithm will be built to answer this question. The algorithm's goal will be to predict if the price will go up (not by how much it went up). A deicison to buy a stock will then be based on whether the price is predicted to go up or not.\n",
    "\n",
    "Although you may not be able to tell just how much profit you'd be making from a trade, this algorithm should help you make a profit on every trade. "
   ]
  },
  {
   "cell_type": "markdown",
   "metadata": {},
   "source": [
    "### The Data\n",
    "\n",
    "The yfinance API is third-party API that draws daily stock price data from the Yahoo Finance platform, and has a record for the entire historical price data of most stocks. This is where the data for this project will come from. First, we'll download the data. Then, we'll explore it and set it up for our machine learning model. \n",
    "\n",
    "For this specific project, we'll be working with the Microsoft (MSFT) stock price data from when it began trading to present. Once the data is downloaded, it'll be saved locally to keep us from calling the API every time we need it."
   ]
  },
  {
   "cell_type": "code",
   "execution_count": 1,
   "metadata": {},
   "outputs": [],
   "source": [
    "# Installing relevant packages\n",
    "\n",
    "import yfinance as yf\n",
    "import pandas as pd\n",
    "import os\n",
    "\n",
    "import matplotlib.pyplot as plt\n",
    "\n",
    "%matplotlib inline"
   ]
  },
  {
   "cell_type": "code",
   "execution_count": 2,
   "metadata": {},
   "outputs": [],
   "source": [
    "# The data file will be read from the API and saved locally for easy access in the future\n",
    "\n",
    "DATA = \"msft_data.json\"\n",
    "\n",
    "if os.path.exists(DATA):\n",
    "    # If the data already exists locally, read the stored data\n",
    "    with open(DATA) as f:\n",
    "        msft_data = pd.read_json(DATA)\n",
    "else:\n",
    "    # If the file doesn't already exist, download it from the yfinance API and save to json\n",
    "    msft = yf.Ticker(\"MSFT\")\n",
    "    msft_data = msft.history(period=\"max\")\n",
    "    msft_data.to_json(DATA)"
   ]
  },
  {
   "cell_type": "markdown",
   "metadata": {},
   "source": [
    "### Data Exploration"
   ]
  },
  {
   "cell_type": "code",
   "execution_count": 3,
   "metadata": {},
   "outputs": [
    {
     "data": {
      "text/html": [
       "<div>\n",
       "<style scoped>\n",
       "    .dataframe tbody tr th:only-of-type {\n",
       "        vertical-align: middle;\n",
       "    }\n",
       "\n",
       "    .dataframe tbody tr th {\n",
       "        vertical-align: top;\n",
       "    }\n",
       "\n",
       "    .dataframe thead th {\n",
       "        text-align: right;\n",
       "    }\n",
       "</style>\n",
       "<table border=\"1\" class=\"dataframe\">\n",
       "  <thead>\n",
       "    <tr style=\"text-align: right;\">\n",
       "      <th></th>\n",
       "      <th>Open</th>\n",
       "      <th>High</th>\n",
       "      <th>Low</th>\n",
       "      <th>Close</th>\n",
       "      <th>Volume</th>\n",
       "      <th>Dividends</th>\n",
       "      <th>Stock Splits</th>\n",
       "    </tr>\n",
       "  </thead>\n",
       "  <tbody>\n",
       "    <tr>\n",
       "      <th>1986-03-13</th>\n",
       "      <td>0.055898</td>\n",
       "      <td>0.064119</td>\n",
       "      <td>0.055898</td>\n",
       "      <td>0.061378</td>\n",
       "      <td>1031788800</td>\n",
       "      <td>0.0</td>\n",
       "      <td>0.0</td>\n",
       "    </tr>\n",
       "    <tr>\n",
       "      <th>1986-03-14</th>\n",
       "      <td>0.061378</td>\n",
       "      <td>0.064667</td>\n",
       "      <td>0.061378</td>\n",
       "      <td>0.063570</td>\n",
       "      <td>308160000</td>\n",
       "      <td>0.0</td>\n",
       "      <td>0.0</td>\n",
       "    </tr>\n",
       "    <tr>\n",
       "      <th>1986-03-17</th>\n",
       "      <td>0.063570</td>\n",
       "      <td>0.065215</td>\n",
       "      <td>0.063570</td>\n",
       "      <td>0.064667</td>\n",
       "      <td>133171200</td>\n",
       "      <td>0.0</td>\n",
       "      <td>0.0</td>\n",
       "    </tr>\n",
       "    <tr>\n",
       "      <th>1986-03-18</th>\n",
       "      <td>0.064667</td>\n",
       "      <td>0.065215</td>\n",
       "      <td>0.062474</td>\n",
       "      <td>0.063022</td>\n",
       "      <td>67766400</td>\n",
       "      <td>0.0</td>\n",
       "      <td>0.0</td>\n",
       "    </tr>\n",
       "    <tr>\n",
       "      <th>1986-03-19</th>\n",
       "      <td>0.063022</td>\n",
       "      <td>0.063570</td>\n",
       "      <td>0.061378</td>\n",
       "      <td>0.061926</td>\n",
       "      <td>47894400</td>\n",
       "      <td>0.0</td>\n",
       "      <td>0.0</td>\n",
       "    </tr>\n",
       "  </tbody>\n",
       "</table>\n",
       "</div>"
      ],
      "text/plain": [
       "                Open      High       Low     Close      Volume  Dividends  \\\n",
       "1986-03-13  0.055898  0.064119  0.055898  0.061378  1031788800        0.0   \n",
       "1986-03-14  0.061378  0.064667  0.061378  0.063570   308160000        0.0   \n",
       "1986-03-17  0.063570  0.065215  0.063570  0.064667   133171200        0.0   \n",
       "1986-03-18  0.064667  0.065215  0.062474  0.063022    67766400        0.0   \n",
       "1986-03-19  0.063022  0.063570  0.061378  0.061926    47894400        0.0   \n",
       "\n",
       "            Stock Splits  \n",
       "1986-03-13           0.0  \n",
       "1986-03-14           0.0  \n",
       "1986-03-17           0.0  \n",
       "1986-03-18           0.0  \n",
       "1986-03-19           0.0  "
      ]
     },
     "execution_count": 3,
     "metadata": {},
     "output_type": "execute_result"
    }
   ],
   "source": [
    "# Display the microsoft stock price history\n",
    "msft_data.head()"
   ]
  },
  {
   "cell_type": "code",
   "execution_count": 4,
   "metadata": {},
   "outputs": [
    {
     "data": {
      "text/plain": [
       "(9049, 7)"
      ]
     },
     "execution_count": 4,
     "metadata": {},
     "output_type": "execute_result"
    }
   ],
   "source": [
    "msft_data.shape"
   ]
  },
  {
   "cell_type": "markdown",
   "metadata": {},
   "source": [
    "From the above, we make some important findings. First, each row of data stands for a day of trading. This means a row is tied to every trading day (stocks don't trade on weekends) since the stock was listed. There are 5 important columns in this data:\n",
    "\n",
    "+ Open - The price the stock opened trading at\n",
    "+ High - The highest price the stock got to during trading hours that day\n",
    "+ Low - The lowest price the stock got to during trading hours that day\n",
    "+ Close - The closing stock price for the day\n",
    "+ Volume - The number of shares traded that day"
   ]
  },
  {
   "cell_type": "markdown",
   "metadata": {},
   "source": [
    "Next, we'll plot the data to visualize how the stock price has changed over time. This will be done using just the closing price of every trading day."
   ]
  },
  {
   "cell_type": "code",
   "execution_count": 5,
   "metadata": {},
   "outputs": [
    {
     "data": {
      "text/plain": [
       "<AxesSubplot:>"
      ]
     },
     "execution_count": 5,
     "metadata": {},
     "output_type": "execute_result"
    },
    {
     "data": {
      "image/png": "[encoded data removed]",
      "text/plain": [
       "<Figure size 432x288 with 1 Axes>"
      ]
     },
     "metadata": {
      "needs_background": "light"
     },
     "output_type": "display_data"
    }
   ],
   "source": [
    "# Visualizing the microsoft stock price changes\n",
    "\n",
    "msft_data.plot.line(y=\"Close\", use_index=True)"
   ]
  },
  {
   "cell_type": "code",
   "execution_count": 6,
   "metadata": {},
   "outputs": [
    {
     "data": {
      "text/plain": [
       "<AxesSubplot:>"
      ]
     },
     "execution_count": 6,
     "metadata": {},
     "output_type": "execute_result"
    },
    {
     "data": {
      "image/png": "[encoded data removed]",
      "text/plain": [
       "<Figure size 432x288 with 1 Axes>"
      ]
     },
     "metadata": {
      "needs_background": "light"
     },
     "output_type": "display_data"
    }
   ],
   "source": [
    "msft_data.plot.line(y=\"Volume\", use_index=True)"
   ]
  },
  {
   "cell_type": "markdown",
   "metadata": {},
   "source": [
    "The above tells us the Microsoft price has been on a steady upward trajectory for the last 30 years. Also interesting is the clear lack of relationship between trading volume and the microsoft stock prices. "
   ]
  },
  {
   "cell_type": "markdown",
   "metadata": {},
   "source": [
    "### Data Preparation\n",
    "\n",
    "The goal of this exercise is to make binary predictions about the price of the microsoft stock. This means we should be able to tell whether the price of the stock goes up tomorrow, using today's data.\n",
    "\n",
    "To begin, we need to determine the days during which the prices went up or down. Then, we need to create a target variable which will be `1` for days when the prices went up, and `0` for days when the price dropped.\n",
    "\n",
    "Finally, we'll shift the data \"forward\" by one day, so it can be used to predict the target price. The idea is that the data from the previous day will be used for the prediction of each day's target variable. Shifting the data forward will keep us from predicting today's target using today's data."
   ]
  },
  {
   "cell_type": "markdown",
   "metadata": {},
   "source": [
    "#### Setting up the training dataset\n",
    "\n",
    "This will be done in two steps:\n",
    "\n",
    "+ First, we'd copy the existing `close` values into a new dataset. This data column will be renamed `Actual Close` to ensure it is retained after shifting the data forward by one day. \n",
    "\n",
    "+ Next, we'll use the pandas `rolling` method to compare every row of data with the row before it. This method picks each pair of rows. We will be returning 1 for everytime the day's close value is greater than the one before it.\n",
    "\n",
    "+ Next, we'll use the pandas `shift` method to shift the values forward by one row. This method will, for instance, move the values from the trading day `1986-03-13` to `1986-03-14`, thus ensuring we're making predictions the future from the past. This will be done in a new dataset for organization purposes\n",
    "\n",
    "+ Finally, we'll combine both datasets using the `join` method. We will also be dropping the first trading day data as there are no available values for prediction using our model"
   ]
  },
  {
   "cell_type": "code",
   "execution_count": 7,
   "metadata": {},
   "outputs": [],
   "source": [
    "# Select and store the Close column to a new dataframe\n",
    "data = msft_data[[\"Close\"]]\n",
    "\n",
    "# Rename the column to 'actual_close' so it doesn't get mixed up\n",
    "data = data.rename(columns={'Close': \"Actual_Close\"})"
   ]
  },
  {
   "cell_type": "code",
   "execution_count": 8,
   "metadata": {},
   "outputs": [],
   "source": [
    "# Create the target variable using the rolling method\n",
    "data[\"Target\"] = msft_data.rolling(2).apply(lambda x: x.iloc[1] > x.iloc[0])['Close']"
   ]
  },
  {
   "cell_type": "code",
   "execution_count": 9,
   "metadata": {},
   "outputs": [
    {
     "data": {
      "text/html": [
       "<div>\n",
       "<style scoped>\n",
       "    .dataframe tbody tr th:only-of-type {\n",
       "        vertical-align: middle;\n",
       "    }\n",
       "\n",
       "    .dataframe tbody tr th {\n",
       "        vertical-align: top;\n",
       "    }\n",
       "\n",
       "    .dataframe thead th {\n",
       "        text-align: right;\n",
       "    }\n",
       "</style>\n",
       "<table border=\"1\" class=\"dataframe\">\n",
       "  <thead>\n",
       "    <tr style=\"text-align: right;\">\n",
       "      <th></th>\n",
       "      <th>Actual_Close</th>\n",
       "      <th>Target</th>\n",
       "    </tr>\n",
       "  </thead>\n",
       "  <tbody>\n",
       "    <tr>\n",
       "      <th>1986-03-13</th>\n",
       "      <td>0.061378</td>\n",
       "      <td>NaN</td>\n",
       "    </tr>\n",
       "    <tr>\n",
       "      <th>1986-03-14</th>\n",
       "      <td>0.063570</td>\n",
       "      <td>1.0</td>\n",
       "    </tr>\n",
       "    <tr>\n",
       "      <th>1986-03-17</th>\n",
       "      <td>0.064667</td>\n",
       "      <td>1.0</td>\n",
       "    </tr>\n",
       "    <tr>\n",
       "      <th>1986-03-18</th>\n",
       "      <td>0.063022</td>\n",
       "      <td>0.0</td>\n",
       "    </tr>\n",
       "    <tr>\n",
       "      <th>1986-03-19</th>\n",
       "      <td>0.061926</td>\n",
       "      <td>0.0</td>\n",
       "    </tr>\n",
       "  </tbody>\n",
       "</table>\n",
       "</div>"
      ],
      "text/plain": [
       "            Actual_Close  Target\n",
       "1986-03-13      0.061378     NaN\n",
       "1986-03-14      0.063570     1.0\n",
       "1986-03-17      0.064667     1.0\n",
       "1986-03-18      0.063022     0.0\n",
       "1986-03-19      0.061926     0.0"
      ]
     },
     "execution_count": 9,
     "metadata": {},
     "output_type": "execute_result"
    }
   ],
   "source": [
    "data.head()"
   ]
  },
  {
   "cell_type": "code",
   "execution_count": 10,
   "metadata": {},
   "outputs": [],
   "source": [
    "# Shift stock prices foward by one day to ensure today's values only \n",
    "# predict tomorrow's target\n",
    "msft_forward = msft_data.copy()\n",
    "msft_forward = msft_forward.shift(1)"
   ]
  },
  {
   "cell_type": "code",
   "execution_count": 11,
   "metadata": {},
   "outputs": [
    {
     "data": {
      "text/html": [
       "<div>\n",
       "<style scoped>\n",
       "    .dataframe tbody tr th:only-of-type {\n",
       "        vertical-align: middle;\n",
       "    }\n",
       "\n",
       "    .dataframe tbody tr th {\n",
       "        vertical-align: top;\n",
       "    }\n",
       "\n",
       "    .dataframe thead th {\n",
       "        text-align: right;\n",
       "    }\n",
       "</style>\n",
       "<table border=\"1\" class=\"dataframe\">\n",
       "  <thead>\n",
       "    <tr style=\"text-align: right;\">\n",
       "      <th></th>\n",
       "      <th>Open</th>\n",
       "      <th>High</th>\n",
       "      <th>Low</th>\n",
       "      <th>Close</th>\n",
       "      <th>Volume</th>\n",
       "      <th>Dividends</th>\n",
       "      <th>Stock Splits</th>\n",
       "    </tr>\n",
       "  </thead>\n",
       "  <tbody>\n",
       "    <tr>\n",
       "      <th>1986-03-13</th>\n",
       "      <td>NaN</td>\n",
       "      <td>NaN</td>\n",
       "      <td>NaN</td>\n",
       "      <td>NaN</td>\n",
       "      <td>NaN</td>\n",
       "      <td>NaN</td>\n",
       "      <td>NaN</td>\n",
       "    </tr>\n",
       "    <tr>\n",
       "      <th>1986-03-14</th>\n",
       "      <td>0.055898</td>\n",
       "      <td>0.064119</td>\n",
       "      <td>0.055898</td>\n",
       "      <td>0.061378</td>\n",
       "      <td>1.031789e+09</td>\n",
       "      <td>0.0</td>\n",
       "      <td>0.0</td>\n",
       "    </tr>\n",
       "    <tr>\n",
       "      <th>1986-03-17</th>\n",
       "      <td>0.061378</td>\n",
       "      <td>0.064667</td>\n",
       "      <td>0.061378</td>\n",
       "      <td>0.063570</td>\n",
       "      <td>3.081600e+08</td>\n",
       "      <td>0.0</td>\n",
       "      <td>0.0</td>\n",
       "    </tr>\n",
       "    <tr>\n",
       "      <th>1986-03-18</th>\n",
       "      <td>0.063570</td>\n",
       "      <td>0.065215</td>\n",
       "      <td>0.063570</td>\n",
       "      <td>0.064667</td>\n",
       "      <td>1.331712e+08</td>\n",
       "      <td>0.0</td>\n",
       "      <td>0.0</td>\n",
       "    </tr>\n",
       "    <tr>\n",
       "      <th>1986-03-19</th>\n",
       "      <td>0.064667</td>\n",
       "      <td>0.065215</td>\n",
       "      <td>0.062474</td>\n",
       "      <td>0.063022</td>\n",
       "      <td>6.776640e+07</td>\n",
       "      <td>0.0</td>\n",
       "      <td>0.0</td>\n",
       "    </tr>\n",
       "  </tbody>\n",
       "</table>\n",
       "</div>"
      ],
      "text/plain": [
       "                Open      High       Low     Close        Volume  Dividends  \\\n",
       "1986-03-13       NaN       NaN       NaN       NaN           NaN        NaN   \n",
       "1986-03-14  0.055898  0.064119  0.055898  0.061378  1.031789e+09        0.0   \n",
       "1986-03-17  0.061378  0.064667  0.061378  0.063570  3.081600e+08        0.0   \n",
       "1986-03-18  0.063570  0.065215  0.063570  0.064667  1.331712e+08        0.0   \n",
       "1986-03-19  0.064667  0.065215  0.062474  0.063022  6.776640e+07        0.0   \n",
       "\n",
       "            Stock Splits  \n",
       "1986-03-13           NaN  \n",
       "1986-03-14           0.0  \n",
       "1986-03-17           0.0  \n",
       "1986-03-18           0.0  \n",
       "1986-03-19           0.0  "
      ]
     },
     "execution_count": 11,
     "metadata": {},
     "output_type": "execute_result"
    }
   ],
   "source": [
    "msft_forward.head()"
   ]
  },
  {
   "cell_type": "code",
   "execution_count": 12,
   "metadata": {},
   "outputs": [],
   "source": [
    "# Select the first 5 columns of our dataset for our predictor values\n",
    "predictors = list(msft_data.columns[:-2])\n",
    "\n",
    "# Combine the two newly created datasets for our training data\n",
    "data = data.join(msft_forward[predictors]).iloc[1:]"
   ]
  },
  {
   "cell_type": "code",
   "execution_count": 13,
   "metadata": {},
   "outputs": [
    {
     "data": {
      "text/html": [
       "<div>\n",
       "<style scoped>\n",
       "    .dataframe tbody tr th:only-of-type {\n",
       "        vertical-align: middle;\n",
       "    }\n",
       "\n",
       "    .dataframe tbody tr th {\n",
       "        vertical-align: top;\n",
       "    }\n",
       "\n",
       "    .dataframe thead th {\n",
       "        text-align: right;\n",
       "    }\n",
       "</style>\n",
       "<table border=\"1\" class=\"dataframe\">\n",
       "  <thead>\n",
       "    <tr style=\"text-align: right;\">\n",
       "      <th></th>\n",
       "      <th>Actual_Close</th>\n",
       "      <th>Target</th>\n",
       "      <th>Open</th>\n",
       "      <th>High</th>\n",
       "      <th>Low</th>\n",
       "      <th>Close</th>\n",
       "      <th>Volume</th>\n",
       "    </tr>\n",
       "  </thead>\n",
       "  <tbody>\n",
       "    <tr>\n",
       "      <th>1986-03-14</th>\n",
       "      <td>0.063570</td>\n",
       "      <td>1.0</td>\n",
       "      <td>0.055898</td>\n",
       "      <td>0.064119</td>\n",
       "      <td>0.055898</td>\n",
       "      <td>0.061378</td>\n",
       "      <td>1.031789e+09</td>\n",
       "    </tr>\n",
       "    <tr>\n",
       "      <th>1986-03-17</th>\n",
       "      <td>0.064667</td>\n",
       "      <td>1.0</td>\n",
       "      <td>0.061378</td>\n",
       "      <td>0.064667</td>\n",
       "      <td>0.061378</td>\n",
       "      <td>0.063570</td>\n",
       "      <td>3.081600e+08</td>\n",
       "    </tr>\n",
       "    <tr>\n",
       "      <th>1986-03-18</th>\n",
       "      <td>0.063022</td>\n",
       "      <td>0.0</td>\n",
       "      <td>0.063570</td>\n",
       "      <td>0.065215</td>\n",
       "      <td>0.063570</td>\n",
       "      <td>0.064667</td>\n",
       "      <td>1.331712e+08</td>\n",
       "    </tr>\n",
       "    <tr>\n",
       "      <th>1986-03-19</th>\n",
       "      <td>0.061926</td>\n",
       "      <td>0.0</td>\n",
       "      <td>0.064667</td>\n",
       "      <td>0.065215</td>\n",
       "      <td>0.062474</td>\n",
       "      <td>0.063022</td>\n",
       "      <td>6.776640e+07</td>\n",
       "    </tr>\n",
       "    <tr>\n",
       "      <th>1986-03-20</th>\n",
       "      <td>0.060282</td>\n",
       "      <td>0.0</td>\n",
       "      <td>0.063022</td>\n",
       "      <td>0.063570</td>\n",
       "      <td>0.061378</td>\n",
       "      <td>0.061926</td>\n",
       "      <td>4.789440e+07</td>\n",
       "    </tr>\n",
       "  </tbody>\n",
       "</table>\n",
       "</div>"
      ],
      "text/plain": [
       "            Actual_Close  Target      Open      High       Low     Close  \\\n",
       "1986-03-14      0.063570     1.0  0.055898  0.064119  0.055898  0.061378   \n",
       "1986-03-17      0.064667     1.0  0.061378  0.064667  0.061378  0.063570   \n",
       "1986-03-18      0.063022     0.0  0.063570  0.065215  0.063570  0.064667   \n",
       "1986-03-19      0.061926     0.0  0.064667  0.065215  0.062474  0.063022   \n",
       "1986-03-20      0.060282     0.0  0.063022  0.063570  0.061378  0.061926   \n",
       "\n",
       "                  Volume  \n",
       "1986-03-14  1.031789e+09  \n",
       "1986-03-17  3.081600e+08  \n",
       "1986-03-18  1.331712e+08  \n",
       "1986-03-19  6.776640e+07  \n",
       "1986-03-20  4.789440e+07  "
      ]
     },
     "execution_count": 13,
     "metadata": {},
     "output_type": "execute_result"
    }
   ],
   "source": [
    "data.head()"
   ]
  },
  {
   "cell_type": "markdown",
   "metadata": {},
   "source": [
    "### Machine Learning Model Building\n",
    "\n",
    "It's finally time to build the machine learning model. The `Random Forest Classifier` will be used for this prediction. Thanks to its ability to pickup non-linear relationships in data, this is a great model for our data type.\n",
    "\n",
    "Because this is a time series data, we can't just split the training and testing data using sklearn's `train_test_split` module. This will split the data without regard for its sequential ordering, leading to leakage where the data from the future will be used to predict the past. For this same reason, we can't use cross validation modules for our model building.\n",
    "\n",
    "Instead, the training and testing data will be split sequentially. We'll begin by leaving only the last 100 rows of data for our test dataset."
   ]
  },
  {
   "cell_type": "code",
   "execution_count": 14,
   "metadata": {},
   "outputs": [],
   "source": [
    "# Import relevant packages\n",
    "import numpy as np\n",
    "from sklearn.ensemble import RandomForestClassifier\n",
    "from sklearn.metrics import accuracy_score, precision_score"
   ]
  },
  {
   "cell_type": "code",
   "execution_count": 15,
   "metadata": {},
   "outputs": [
    {
     "data": {
      "text/plain": [
       "RandomForestClassifier(min_samples_split=200, random_state=1)"
      ]
     },
     "execution_count": 15,
     "metadata": {},
     "output_type": "execute_result"
    }
   ],
   "source": [
    "# Splitting the train and test data\n",
    "train = data.iloc[:-100]\n",
    "test = data.iloc[-100:]\n",
    "\n",
    "# Creating the randomforest model with large numbers of predictors\n",
    "model = RandomForestClassifier(n_estimators=100, min_samples_split=200, random_state=1)\n",
    "\n",
    "model.fit(train[predictors], train[\"Target\"])"
   ]
  },
  {
   "cell_type": "code",
   "execution_count": 16,
   "metadata": {},
   "outputs": [
    {
     "name": "stdout",
     "output_type": "stream",
     "text": [
      "The precision score of the model is: 0.5294117647058824\n",
      "The accuracy score of the model is: 0.46\n"
     ]
    }
   ],
   "source": [
    "# Evaluate the model performance\n",
    "\n",
    "preds = model.predict(test[predictors])\n",
    "preds = pd.Series(preds, index=test.index)\n",
    "print(f\"The precision score of the model is: {precision_score(test['Target'], preds)}\")\n",
    "print(f\"The accuracy score of the model is: {accuracy_score(test['Target'], preds)}\")"
   ]
  },
  {
   "cell_type": "code",
   "execution_count": 17,
   "metadata": {},
   "outputs": [
    {
     "name": "stdout",
     "output_type": "stream",
     "text": [
      "Following this model, we would have traded 17.0 times, although trading was profitable on 55.0 days out of 100.\n"
     ]
    }
   ],
   "source": [
    "# Compare the number of times we would have traded vs days trading was profitable\n",
    "print(f\"Following this model, we would have traded {preds.sum()} times, although trading was profitable on {test['Target'].sum()} days out of {len(test)}.\")"
   ]
  },
  {
   "cell_type": "markdown",
   "metadata": {},
   "source": [
    "The result here is indicative of how poor our model is. A precision score of 52.9% indicates that the model correctly predicts the days to trade ~53% of the time. This means we miss out on more than half the days we were supposed to trade. An accuracy score of 46% means the model is generally more inaccurate than accurate. "
   ]
  },
  {
   "cell_type": "code",
   "execution_count": 18,
   "metadata": {},
   "outputs": [
    {
     "data": {
      "text/plain": [
       "<AxesSubplot:>"
      ]
     },
     "execution_count": 18,
     "metadata": {},
     "output_type": "execute_result"
    },
    {
     "data": {
      "image/png": "[encoded data removed]",
      "text/plain": [
       "<Figure size 432x288 with 1 Axes>"
      ]
     },
     "metadata": {
      "needs_background": "light"
     },
     "output_type": "display_data"
    }
   ],
   "source": [
    "combined = pd.concat({\"Target\": test['Target'], \"Predictions\":preds}, axis=1)\n",
    "combined.plot()"
   ]
  },
  {
   "cell_type": "markdown",
   "metadata": {},
   "source": [
    "The above shows that our model was correct (accurately predicting the best times to purchase or sit back) for a few days in October of 2021. After this period, though, the model only forecasted against making a purchase. It was right just about 50% of the time."
   ]
  },
  {
   "cell_type": "markdown",
   "metadata": {},
   "source": [
    "### Improving the Model - Backtesting\n",
    "\n",
    "Finding better parameters can help us build a much better model. Before getting into that, though, there's something else to try.\n",
    "\n",
    "Backtesting is a way of testing how a model performs on historical data. It assesses the viability of our model by checking how it'll have performed ex-post. This means using only data from the past to predict the future in order to avoid unrealistic prediction performance.\n",
    "\n",
    "Considering the nature of our data, we will need to write out a function to bakctest our model. The function will loop over the dataset and train a model every 750 rows. To achieve this, the function will need to:\n",
    "\n",
    "+ Split the training and testing data\n",
    "+ Train a model\n",
    "+ Make predictions on the test data using the training data"
   ]
  },
  {
   "cell_type": "code",
   "execution_count": 19,
   "metadata": {},
   "outputs": [],
   "source": [
    "def backtest(data, model, predictors, start=1000, step=750):\n",
    "    predictions = pd.DataFrame({\"Target\":[], \"Predictions\":[]})\n",
    "    # Loop over the dataset\n",
    "    for i in range(start, data.shape[0], step):\n",
    "        # Split the train and test data\n",
    "        train = data.iloc[0:i].copy()\n",
    "        test = data.iloc[i:(i+step)].copy()\n",
    "        \n",
    "        # Fit the model\n",
    "        model.fit(train[predictors], train['Target'])\n",
    "        \n",
    "        # Make predictions\n",
    "        preds = model.predict_proba(test[predictors])[:,1]\n",
    "        preds = pd.Series(preds, index=test.index)\n",
    "        preds[preds > 0.6] = 1\n",
    "        preds[preds <= 0.6] = 0\n",
    "\n",
    "        # Combine predictions and test values\n",
    "        prediction = pd.concat({\"Target\": test[\"Target\"], \"Predictions\":preds}, axis=1)\n",
    "\n",
    "        # Store all predictions and test values in a single dataframe\n",
    "        frames = [predictions, prediction]\n",
    "        predictions = pd.concat(frames)\n",
    "        \n",
    "    return predictions"
   ]
  },
  {
   "cell_type": "code",
   "execution_count": 20,
   "metadata": {},
   "outputs": [],
   "source": [
    "predictions = backtest(data, model, predictors)"
   ]
  },
  {
   "cell_type": "code",
   "execution_count": 21,
   "metadata": {},
   "outputs": [
    {
     "data": {
      "text/plain": [
       "0.5"
      ]
     },
     "execution_count": 21,
     "metadata": {},
     "output_type": "execute_result"
    }
   ],
   "source": [
    "precision_score(predictions['Target'], predictions[\"Predictions\"])"
   ]
  },
  {
   "cell_type": "code",
   "execution_count": 22,
   "metadata": {},
   "outputs": [
    {
     "data": {
      "text/plain": [
       "0.0    7330\n",
       "1.0     718\n",
       "Name: Predictions, dtype: int64"
      ]
     },
     "execution_count": 22,
     "metadata": {},
     "output_type": "execute_result"
    }
   ],
   "source": [
    "predictions[\"Predictions\"].value_counts()"
   ]
  },
  {
   "cell_type": "code",
   "execution_count": 23,
   "metadata": {},
   "outputs": [
    {
     "data": {
      "text/plain": [
       "1.0    4082\n",
       "0.0    3966\n",
       "Name: Target, dtype: int64"
      ]
     },
     "execution_count": 23,
     "metadata": {},
     "output_type": "execute_result"
    }
   ],
   "source": [
    "predictions[\"Target\"].value_counts()"
   ]
  },
  {
   "cell_type": "markdown",
   "metadata": {},
   "source": [
    "Our precision score has dropped slightly with the model now predicting on every cell. This is expected to some extent, considering there is more likelihood of error when predicting a large number of target values. The number of days where our model indicates we can make a trade is also very modest, an expected response to the higher prediction threshold (0.6).\n",
    "\n",
    "To help improve the model, we'd be adding more features to our predictors."
   ]
  },
  {
   "cell_type": "markdown",
   "metadata": {},
   "source": [
    "### Improving the Model - Feature Engineering\n",
    "\n",
    "Thanks to the backtesting function, we can now make predictions across the entire length of the dataset. To get the model to predict even better, more predictors are needed. This will involve some form of feature engineering on our part to see if they improve the model.\n",
    "\n",
    "The added features will be rolling means to help the model evaluate current prices against recent prices. Also to be considered will be the relationship between different indicators."
   ]
  },
  {
   "cell_type": "markdown",
   "metadata": {},
   "source": [
    "#### Rolling Means\n",
    "\n",
    "Rolling means or moving averages are means calculated over a specified period of time to indicate recent trends. For the first step, we'll be adding a simple moving average of 7 days, 90 days, and 365 days (1 year). \n",
    "\n",
    "Once again, I employ the pandas rolling method for this step."
   ]
  },
  {
   "cell_type": "code",
   "execution_count": 24,
   "metadata": {},
   "outputs": [],
   "source": [
    "# Generate trend data\n",
    "weekly_mean = data.rolling(7).mean()[\"Close\"]\n",
    "quarterly_mean = data.rolling(90).mean()[\"Close\"]\n",
    "annual_mean = data.rolling(365).mean()[\"Close\"]\n",
    "\n",
    "# Add trend data to prediction dataset\n",
    "data[\"weekly_mean\"] = weekly_mean/data[\"Close\"]\n",
    "data[\"quarterly_mean\"] = quarterly_mean/data[\"Close\"]\n",
    "data[\"annual_mean\"] = annual_mean/data[\"Close\"]"
   ]
  },
  {
   "cell_type": "markdown",
   "metadata": {},
   "source": [
    "Next, we'll calculate the ratios between the different rolling means and add them to the dataset. This would help the algorithm understand what the weekly/quarterly trend is relative to the annual trend."
   ]
  },
  {
   "cell_type": "code",
   "execution_count": 25,
   "metadata": {},
   "outputs": [],
   "source": [
    "# Calculate annual means for each category above\n",
    "data[\"annual_weekly_mean\"] = data[\"annual_mean\"]/data[\"weekly_mean\"]\n",
    "data[\"annual_quarterly_mean\"] = data[\"annual_mean\"]/data[\"quarterly_mean\"]"
   ]
  },
  {
   "cell_type": "markdown",
   "metadata": {},
   "source": [
    "#### Weekly Trend\n",
    "\n",
    "Next, we want our algorithm to know how many times the price has gone up over the last week. To do this, we'd combine the shift and rolling methods of the pandas library. Note the following:\n",
    "\n",
    "+ Shifting one day forward keeps the algorithm from knowing the target value of the current day, and from incorporating this into its prediction.\n",
    "+ The value of the 7-day rolling sum of the target will be a 7 if the price went up everyday of the last week, or 0 if it didn't go up at all."
   ]
  },
  {
   "cell_type": "code",
   "execution_count": 26,
   "metadata": {},
   "outputs": [],
   "source": [
    "# Generate and add the weekly trend data to the dataset\n",
    "\n",
    "weekly_trend = data.shift(1).rolling(7).sum()[\"Target\"]\n",
    "data[\"weekly_trend\"] = weekly_trend"
   ]
  },
  {
   "cell_type": "markdown",
   "metadata": {},
   "source": [
    "#### Indicator Ratios\n",
    "\n",
    "Indicator ratios help us understand what the price trend was like the previous day. For instance, if the highest price was much higher than the close price, it may suggest the price was on a downward trend before the close of trading. We'll generate these ratios for the open, low, and high prices, versus the close price."
   ]
  },
  {
   "cell_type": "code",
   "execution_count": 27,
   "metadata": {},
   "outputs": [],
   "source": [
    "# Calculate the ratios between different indicators\n",
    "data[\"open_close_ratio\"] = data[\"Open\"]/data[\"Close\"]\n",
    "data[\"high_close_ratio\"] = data[\"High\"]/data[\"Close\"]\n",
    "data[\"low_close_ratio\"] = data[\"Low\"]/data[\"Close\"]"
   ]
  },
  {
   "cell_type": "code",
   "execution_count": 28,
   "metadata": {},
   "outputs": [
    {
     "data": {
      "text/html": [
       "<div>\n",
       "<style scoped>\n",
       "    .dataframe tbody tr th:only-of-type {\n",
       "        vertical-align: middle;\n",
       "    }\n",
       "\n",
       "    .dataframe tbody tr th {\n",
       "        vertical-align: top;\n",
       "    }\n",
       "\n",
       "    .dataframe thead th {\n",
       "        text-align: right;\n",
       "    }\n",
       "</style>\n",
       "<table border=\"1\" class=\"dataframe\">\n",
       "  <thead>\n",
       "    <tr style=\"text-align: right;\">\n",
       "      <th></th>\n",
       "      <th>Actual_Close</th>\n",
       "      <th>Target</th>\n",
       "      <th>Open</th>\n",
       "      <th>High</th>\n",
       "      <th>Low</th>\n",
       "      <th>Close</th>\n",
       "      <th>Volume</th>\n",
       "      <th>weekly_mean</th>\n",
       "      <th>quarterly_mean</th>\n",
       "      <th>annual_mean</th>\n",
       "      <th>annual_weekly_mean</th>\n",
       "      <th>annual_quarterly_mean</th>\n",
       "      <th>weekly_trend</th>\n",
       "      <th>open_close_ratio</th>\n",
       "      <th>high_close_ratio</th>\n",
       "      <th>low_close_ratio</th>\n",
       "    </tr>\n",
       "  </thead>\n",
       "  <tbody>\n",
       "    <tr>\n",
       "      <th>1986-03-14</th>\n",
       "      <td>0.063570</td>\n",
       "      <td>1.0</td>\n",
       "      <td>0.055898</td>\n",
       "      <td>0.064119</td>\n",
       "      <td>0.055898</td>\n",
       "      <td>0.061378</td>\n",
       "      <td>1.031789e+09</td>\n",
       "      <td>NaN</td>\n",
       "      <td>NaN</td>\n",
       "      <td>NaN</td>\n",
       "      <td>NaN</td>\n",
       "      <td>NaN</td>\n",
       "      <td>NaN</td>\n",
       "      <td>0.910720</td>\n",
       "      <td>1.044650</td>\n",
       "      <td>0.910720</td>\n",
       "    </tr>\n",
       "    <tr>\n",
       "      <th>1986-03-17</th>\n",
       "      <td>0.064667</td>\n",
       "      <td>1.0</td>\n",
       "      <td>0.061378</td>\n",
       "      <td>0.064667</td>\n",
       "      <td>0.061378</td>\n",
       "      <td>0.063570</td>\n",
       "      <td>3.081600e+08</td>\n",
       "      <td>NaN</td>\n",
       "      <td>NaN</td>\n",
       "      <td>NaN</td>\n",
       "      <td>NaN</td>\n",
       "      <td>NaN</td>\n",
       "      <td>NaN</td>\n",
       "      <td>0.965519</td>\n",
       "      <td>1.017250</td>\n",
       "      <td>0.965519</td>\n",
       "    </tr>\n",
       "    <tr>\n",
       "      <th>1986-03-18</th>\n",
       "      <td>0.063022</td>\n",
       "      <td>0.0</td>\n",
       "      <td>0.063570</td>\n",
       "      <td>0.065215</td>\n",
       "      <td>0.063570</td>\n",
       "      <td>0.064667</td>\n",
       "      <td>1.331712e+08</td>\n",
       "      <td>NaN</td>\n",
       "      <td>NaN</td>\n",
       "      <td>NaN</td>\n",
       "      <td>NaN</td>\n",
       "      <td>NaN</td>\n",
       "      <td>NaN</td>\n",
       "      <td>0.983042</td>\n",
       "      <td>1.008474</td>\n",
       "      <td>0.983042</td>\n",
       "    </tr>\n",
       "    <tr>\n",
       "      <th>1986-03-19</th>\n",
       "      <td>0.061926</td>\n",
       "      <td>0.0</td>\n",
       "      <td>0.064667</td>\n",
       "      <td>0.065215</td>\n",
       "      <td>0.062474</td>\n",
       "      <td>0.063022</td>\n",
       "      <td>6.776640e+07</td>\n",
       "      <td>NaN</td>\n",
       "      <td>NaN</td>\n",
       "      <td>NaN</td>\n",
       "      <td>NaN</td>\n",
       "      <td>NaN</td>\n",
       "      <td>NaN</td>\n",
       "      <td>1.026095</td>\n",
       "      <td>1.034791</td>\n",
       "      <td>0.991305</td>\n",
       "    </tr>\n",
       "    <tr>\n",
       "      <th>1986-03-20</th>\n",
       "      <td>0.060282</td>\n",
       "      <td>0.0</td>\n",
       "      <td>0.063022</td>\n",
       "      <td>0.063570</td>\n",
       "      <td>0.061378</td>\n",
       "      <td>0.061926</td>\n",
       "      <td>4.789440e+07</td>\n",
       "      <td>NaN</td>\n",
       "      <td>NaN</td>\n",
       "      <td>NaN</td>\n",
       "      <td>NaN</td>\n",
       "      <td>NaN</td>\n",
       "      <td>NaN</td>\n",
       "      <td>1.017698</td>\n",
       "      <td>1.026547</td>\n",
       "      <td>0.991151</td>\n",
       "    </tr>\n",
       "  </tbody>\n",
       "</table>\n",
       "</div>"
      ],
      "text/plain": [
       "            Actual_Close  Target      Open      High       Low     Close  \\\n",
       "1986-03-14      0.063570     1.0  0.055898  0.064119  0.055898  0.061378   \n",
       "1986-03-17      0.064667     1.0  0.061378  0.064667  0.061378  0.063570   \n",
       "1986-03-18      0.063022     0.0  0.063570  0.065215  0.063570  0.064667   \n",
       "1986-03-19      0.061926     0.0  0.064667  0.065215  0.062474  0.063022   \n",
       "1986-03-20      0.060282     0.0  0.063022  0.063570  0.061378  0.061926   \n",
       "\n",
       "                  Volume  weekly_mean  quarterly_mean  annual_mean  \\\n",
       "1986-03-14  1.031789e+09          NaN             NaN          NaN   \n",
       "1986-03-17  3.081600e+08          NaN             NaN          NaN   \n",
       "1986-03-18  1.331712e+08          NaN             NaN          NaN   \n",
       "1986-03-19  6.776640e+07          NaN             NaN          NaN   \n",
       "1986-03-20  4.789440e+07          NaN             NaN          NaN   \n",
       "\n",
       "            annual_weekly_mean  annual_quarterly_mean  weekly_trend  \\\n",
       "1986-03-14                 NaN                    NaN           NaN   \n",
       "1986-03-17                 NaN                    NaN           NaN   \n",
       "1986-03-18                 NaN                    NaN           NaN   \n",
       "1986-03-19                 NaN                    NaN           NaN   \n",
       "1986-03-20                 NaN                    NaN           NaN   \n",
       "\n",
       "            open_close_ratio  high_close_ratio  low_close_ratio  \n",
       "1986-03-14          0.910720          1.044650         0.910720  \n",
       "1986-03-17          0.965519          1.017250         0.965519  \n",
       "1986-03-18          0.983042          1.008474         0.983042  \n",
       "1986-03-19          1.026095          1.034791         0.991305  \n",
       "1986-03-20          1.017698          1.026547         0.991151  "
      ]
     },
     "execution_count": 28,
     "metadata": {},
     "output_type": "execute_result"
    }
   ],
   "source": [
    "data.head()"
   ]
  },
  {
   "cell_type": "markdown",
   "metadata": {},
   "source": [
    "#### Updating Predictions\n",
    "\n",
    "Finally, we've arrived at the point where we can now update our predictions and see how our new features have performed. First, we'll be creating a new list to account for the new predictors. Then, we'll cut off the first 365 days from our data while building the model. This is important as our rolling means have created `NaN` values up to that point, which will break our algorithm if let through."
   ]
  },
  {
   "cell_type": "code",
   "execution_count": 29,
   "metadata": {},
   "outputs": [],
   "source": [
    "# Update the predictors ahead of new round of testing\n",
    "\n",
    "new_predictors = [\"weekly_mean\", \"quarterly_mean\", \"annual_mean\", \"annual_weekly_mean\", \n",
    "                    \"annual_quarterly_mean\", \"weekly_trend\", \"open_close_ratio\", \n",
    "                    \"high_close_ratio\", \"low_close_ratio\"]\n",
    "\n",
    "all_predictors = predictors + new_predictors"
   ]
  },
  {
   "cell_type": "code",
   "execution_count": 30,
   "metadata": {},
   "outputs": [],
   "source": [
    "predictions = backtest(data.iloc[365:], model, all_predictors)"
   ]
  },
  {
   "cell_type": "code",
   "execution_count": 31,
   "metadata": {},
   "outputs": [
    {
     "data": {
      "text/plain": [
       "0.5625"
      ]
     },
     "execution_count": 31,
     "metadata": {},
     "output_type": "execute_result"
    }
   ],
   "source": [
    "precision_score(predictions[\"Target\"], predictions[\"Predictions\"])"
   ]
  },
  {
   "cell_type": "code",
   "execution_count": 32,
   "metadata": {},
   "outputs": [
    {
     "data": {
      "text/plain": [
       "0.0    7347\n",
       "1.0     336\n",
       "Name: Predictions, dtype: int64"
      ]
     },
     "execution_count": 32,
     "metadata": {},
     "output_type": "execute_result"
    }
   ],
   "source": [
    "predictions[\"Predictions\"].value_counts()"
   ]
  },
  {
   "cell_type": "code",
   "execution_count": 33,
   "metadata": {},
   "outputs": [
    {
     "data": {
      "text/plain": [
       "<AxesSubplot:>"
      ]
     },
     "execution_count": 33,
     "metadata": {},
     "output_type": "execute_result"
    },
    {
     "data": {
      "image/png": "[encoded data removed]",
      "text/plain": [
       "<Figure size 432x288 with 1 Axes>"
      ]
     },
     "metadata": {
      "needs_background": "light"
     },
     "output_type": "display_data"
    }
   ],
   "source": [
    "predictions.iloc[-100:].plot()"
   ]
  },
  {
   "cell_type": "markdown",
   "metadata": {},
   "source": [
    "The precision score of the model has again improved slightly. However, once again, we've seen the number of days where we're instructed to trade drop by half. To improve the precision accuracy of the model even more, we'd need to add even more features. Then, we could test out other algorithms to see how they perform on our dataset."
   ]
  },
  {
   "cell_type": "code",
   "execution_count": null,
   "metadata": {},
   "outputs": [],
   "source": []
  },
  {
   "cell_type": "code",
   "execution_count": null,
   "metadata": {},
   "outputs": [],
   "source": []
  },
  {
   "cell_type": "code",
   "execution_count": null,
   "metadata": {},
   "outputs": [],
   "source": [
    "\n",
    "\n",
    "# Add trend data to existing dataset\n",
    "data[\"weekly_daily_ratio\"] = weekly_mean/data[\"Close\"]\n",
    "data[\"quarterly_daily_ratio\"] = quarterly_mean/data[\"Close\"]\n",
    "data[\"annual_daily_ratio\"] = annual_mean/data[\"Close\"]\n",
    "\n",
    "\n",
    "\n"
   ]
  }
 ],
 "metadata": {
  "interpreter": {
   "hash": "bd65c97ab4ea31bd70301d4fe4b361edc6f2ef36093d665c062c0cac21abedef"
  },
  "kernelspec": {
   "display_name": "Python 3.9.7 64-bit ('Stock_Project-xPAIi_hi': virtualenv)",
   "language": "python",
   "name": "python3"
  },
  "language_info": {
   "codemirror_mode": {
    "name": "ipython",
    "version": 3
   },
   "file_extension": ".py",
   "mimetype": "text/x-python",
   "name": "python",
   "nbconvert_exporter": "python",
   "pygments_lexer": "ipython3",
   "version": "3.9.7"
  },
  "orig_nbformat": 4
 },
 "nbformat": 4,
 "nbformat_minor": 2
}
